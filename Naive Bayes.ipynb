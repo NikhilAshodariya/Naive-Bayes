{
 "cells": [
  {
   "cell_type": "code",
   "execution_count": 263,
   "metadata": {
    "collapsed": false
   },
   "outputs": [],
   "source": [
    "# importing libraries\n",
    "import numpy as np\n",
    "import pandas as pd\n",
    "import matplotlib.pyplot as plt\n",
    "from astropy.table import Table, Column\n",
    "from sklearn.metrics import accuracy_score\n",
    "from sklearn.cross_validation import train_test_split\n",
    "\n",
    "import warnings\n",
    "warnings.filterwarnings('ignore')"
   ]
  },
  {
   "cell_type": "code",
   "execution_count": 264,
   "metadata": {
    "collapsed": true
   },
   "outputs": [],
   "source": [
    "def toList(df,columns):\n",
    "    idx =df.index.tolist()\n",
    "    l=[]\n",
    "    for i in idx:\n",
    "        temp=[]\n",
    "        for j in columns:\n",
    "            a=df.get_value(i,j)\n",
    "            temp.append(a)\n",
    "        l.append(temp)\n",
    "    return l"
   ]
  },
  {
   "cell_type": "code",
   "execution_count": 265,
   "metadata": {
    "collapsed": false
   },
   "outputs": [],
   "source": [
    "class NavieBaye:\n",
    "    def __init__(self):\n",
    "        pass\n",
    "\n",
    "\n",
    "    def __calculateIndividualProbability__(self,y):\n",
    "        value,count=self.__getUnique__(y)\n",
    "        return np.divide(count,len(y))\n",
    "    \n",
    "    def __getUnique__(self,lis):\n",
    "        y=lis\n",
    "        indexlist=y.index.tolist()\n",
    "        temp=[]\n",
    "        for i in indexlist:\n",
    "            temp.append(y.get(i))\n",
    "        uniqueValueSet=set(temp)\n",
    "\n",
    "        countList=[]\n",
    "        for j in uniqueValueSet:\n",
    "            c=[]\n",
    "            counter=0\n",
    "            for i in indexlist:\n",
    "                if y.get(i)==j:\n",
    "                    counter+=1\n",
    "            countList.append(counter)\n",
    "\n",
    "        return (list(uniqueValueSet),countList)\n",
    "    \n",
    "    def __constructProbabilities__(self,X,y):\n",
    "        tiger=[] # values of each attributes \n",
    "        tables=[] # tables is the probabilty table\n",
    "        features=X.columns\n",
    "    #     converting to series if y is a dataframe\n",
    "        if isinstance(y, pd.DataFrame):\n",
    "            y=y[y.columns[0]]\n",
    "\n",
    "        uniqueValueInY,valueCountListInY=self.__getUnique__(y)\n",
    "\n",
    "        \n",
    "        for index,i in enumerate(features):\n",
    "            t=Table()\n",
    "            uniqueValue,count=self.__getUnique__(X[i])\n",
    "            yak=[]\n",
    "            for ind,j in enumerate(uniqueValue):\n",
    "                total=[]\n",
    "                for jack,k in enumerate(uniqueValueInY):# this uniqueValueSet is of y\n",
    "                    if ind==0:\n",
    "                        if jack==0:\n",
    "                            co=Column(name=i,dtype='S20')\n",
    "                            t.add_column(co)\n",
    "                        col=Column(name=k)\n",
    "                        t.add_column(col)\n",
    "                        \n",
    "                    abc=len(X.ix[((X[i]==j) & (y == k))])\n",
    "                    total.append(abc)\n",
    "                ashod=np.divide(total,valueCountListInY)\n",
    "                ashod=ashod.tolist()\n",
    "                ashod.insert(0, j)\n",
    "                t.add_row(ashod)\n",
    "                yak.append(total)\n",
    "            tiger.append(yak)\n",
    "            tables.append(t)\n",
    "        return tiger,tables\n",
    "        \n",
    "    def __assignLabel__(self,y):\n",
    "        \n",
    "        pass\n",
    "    \n",
    "    \n",
    "    def fit(self,X,y):\n",
    "#         X and y is the dataframe\n",
    "        self.columns=X.columns\n",
    "        \n",
    "        self.values,self.probability=self.__constructProbabilities__(X,y)\n",
    "        self.individualProbability=self.__calculateIndividualProbability__(y)\n",
    "        \n",
    "    def __predictProbability__(self,totalSample):    \n",
    "        finalList=[]\n",
    "        for saIndex,sample in enumerate(totalSample):\n",
    "            total=[]\n",
    "            for sampleIndex,eachAttribute in enumerate(sample):\n",
    "                probTable=self.probability[sampleIndex]\n",
    "                tempList={}\n",
    "                for rowIndex,row in enumerate(probTable):\n",
    "                    if row[0].decode('UTF-8')==str(eachAttribute):\n",
    "                        lis=[]\n",
    "                        for colIndex in range(0,len(probTable.colnames)):\n",
    "                            if colIndex!=0:\n",
    "                                lis.append(row[colIndex])\n",
    "                        tempList[eachAttribute]=lis\n",
    "                        break\n",
    "                total.append(tempList)\n",
    "            finalList.append(total)\n",
    "        return finalList\n",
    "    \n",
    "    def __findMaxWithIndex__(self,a):\n",
    "        max_=a[0]\n",
    "        maxIndex = 0\n",
    "        for i in range(len(a)):\n",
    "            if a[i] > max_:\n",
    "                max_ = a[i]\n",
    "                maxIndex = i\n",
    "        return maxIndex,max_\n",
    "    \n",
    "    def predictClass(self,totalSample):\n",
    "        finalList=self.__predictProbability__(totalSample)\n",
    "        classes=[]\n",
    "        ans=[]\n",
    "        \n",
    "        \n",
    "        def createClassesList():\n",
    "            temp=[]\n",
    "            for i in finalList[0]:\n",
    "                va=list(i.values())[0]\n",
    "                for j in va:\n",
    "                    temp.append([])\n",
    "                break\n",
    "            return temp\n",
    "        \n",
    "        classes=createClassesList()\n",
    "        \n",
    "        \n",
    "        for listIndex,element in enumerate(finalList):\n",
    "            temp=[]\n",
    "            for j in element:\n",
    "                listOfValues=list(j.values())[0]\n",
    "                for classesIndex,cla in enumerate(classes):\n",
    "                    cla.append(listOfValues[classesIndex])\n",
    "            \n",
    "            decision=[]\n",
    "            for classesIndex,cla in enumerate(classes):\n",
    "                yak=np.prod(cla)*self.individualProbability[classesIndex]\n",
    "                decision.append(yak)\n",
    "                \n",
    "                \n",
    "            maxIndex,max_=self.__findMaxWithIndex__(decision)\n",
    "            \n",
    "            lis=self.probability[0].colnames\n",
    "            \n",
    "            ans.append(lis[maxIndex+1])\n",
    "            classes=createClassesList()\n",
    "        return ans"
   ]
  },
  {
   "cell_type": "code",
   "execution_count": 266,
   "metadata": {
    "collapsed": false
   },
   "outputs": [
    {
     "data": {
      "text/html": [
       "<div>\n",
       "<table border=\"1\" class=\"dataframe\">\n",
       "  <thead>\n",
       "    <tr style=\"text-align: right;\">\n",
       "      <th></th>\n",
       "      <th>mpg</th>\n",
       "      <th>cylinders</th>\n",
       "      <th>displacement</th>\n",
       "      <th>horsepower</th>\n",
       "      <th>weight</th>\n",
       "      <th>acceleration</th>\n",
       "      <th>modelyear</th>\n",
       "      <th>maker</th>\n",
       "    </tr>\n",
       "  </thead>\n",
       "  <tbody>\n",
       "    <tr>\n",
       "      <th>8</th>\n",
       "      <td>Bad</td>\n",
       "      <td>8</td>\n",
       "      <td>260</td>\n",
       "      <td>110</td>\n",
       "      <td>4060</td>\n",
       "      <td>19.0</td>\n",
       "      <td>77</td>\n",
       "      <td>America</td>\n",
       "    </tr>\n",
       "  </tbody>\n",
       "</table>\n",
       "</div>"
      ],
      "text/plain": [
       "   mpg  cylinders  displacement  horsepower  weight  acceleration  modelyear  \\\n",
       "8  Bad          8           260         110    4060          19.0         77   \n",
       "\n",
       "     maker  \n",
       "8  America  "
      ]
     },
     "execution_count": 266,
     "metadata": {},
     "output_type": "execute_result"
    }
   ],
   "source": [
    "df=pd.read_csv('Gallon.csv')\n",
    "df.sample()"
   ]
  },
  {
   "cell_type": "markdown",
   "metadata": {},
   "source": [
    "### Here you do not divide the data into train test split. Since there are chance that the output class of any attribute may not be present in train but present in test due to split"
   ]
  },
  {
   "cell_type": "code",
   "execution_count": 267,
   "metadata": {
    "collapsed": true
   },
   "outputs": [],
   "source": [
    "features=df.columns[:-1]\n",
    "target=df.columns[-1]\n",
    "X=df[features]\n",
    "y=df[target]\n"
   ]
  },
  {
   "cell_type": "code",
   "execution_count": 268,
   "metadata": {
    "collapsed": true
   },
   "outputs": [],
   "source": [
    "nb=NavieBaye()\n",
    "nb.fit(X,y)"
   ]
  },
  {
   "cell_type": "code",
   "execution_count": 269,
   "metadata": {
    "collapsed": false
   },
   "outputs": [],
   "source": [
    "nb=NaiveBayes()"
   ]
  },
  {
   "cell_type": "code",
   "execution_count": 270,
   "metadata": {
    "collapsed": false
   },
   "outputs": [],
   "source": [
    "nb.fit(X,y)"
   ]
  },
  {
   "cell_type": "markdown",
   "metadata": {},
   "source": [
    "### after fitting the data you can see the probability table for each attribute i.e. each column"
   ]
  },
  {
   "cell_type": "code",
   "execution_count": 271,
   "metadata": {
    "collapsed": false
   },
   "outputs": [
    {
     "data": {
      "text/html": [
       "&lt;Table length=3&gt;\n",
       "<table id=\"table2635804527864\" class=\"table-striped table-bordered table-condensed\">\n",
       "<thead><tr><th>mpg</th><th>Europe</th><th>Asia</th><th>America</th></tr></thead>\n",
       "<thead><tr><th>bytes20</th><th>float64</th><th>float64</th><th>float64</th></tr></thead>\n",
       "<tr><td>Bad</td><td>0.0</td><td>0.272727272727</td><td>0.695652173913</td></tr>\n",
       "<tr><td>Good</td><td>0.375</td><td>0.181818181818</td><td>0.130434782609</td></tr>\n",
       "<tr><td>Ok</td><td>0.625</td><td>0.545454545455</td><td>0.173913043478</td></tr>\n",
       "</table>"
      ],
      "text/plain": [
       "<Table length=3>\n",
       "  mpg    Europe      Asia         America    \n",
       "bytes20 float64    float64        float64    \n",
       "------- ------- -------------- --------------\n",
       "    Bad     0.0 0.272727272727 0.695652173913\n",
       "   Good   0.375 0.181818181818 0.130434782609\n",
       "     Ok   0.625 0.545454545455 0.173913043478"
      ]
     },
     "execution_count": 271,
     "metadata": {},
     "output_type": "execute_result"
    }
   ],
   "source": [
    "nb.probability[0]"
   ]
  },
  {
   "cell_type": "code",
   "execution_count": 272,
   "metadata": {
    "collapsed": false
   },
   "outputs": [
    {
     "data": {
      "text/html": [
       "&lt;Table length=3&gt;\n",
       "<table id=\"table2635804525624\" class=\"table-striped table-bordered table-condensed\">\n",
       "<thead><tr><th>cylinders</th><th>Europe</th><th>Asia</th><th>America</th></tr></thead>\n",
       "<thead><tr><th>bytes20</th><th>float64</th><th>float64</th><th>float64</th></tr></thead>\n",
       "<tr><td>8</td><td>0.0</td><td>0.0</td><td>0.304347826087</td></tr>\n",
       "<tr><td>4</td><td>0.875</td><td>0.909090909091</td><td>0.347826086957</td></tr>\n",
       "<tr><td>6</td><td>0.125</td><td>0.0909090909091</td><td>0.347826086957</td></tr>\n",
       "</table>"
      ],
      "text/plain": [
       "<Table length=3>\n",
       "cylinders  Europe       Asia         America    \n",
       " bytes20  float64     float64        float64    \n",
       "--------- ------- --------------- --------------\n",
       "        8     0.0             0.0 0.304347826087\n",
       "        4   0.875  0.909090909091 0.347826086957\n",
       "        6   0.125 0.0909090909091 0.347826086957"
      ]
     },
     "execution_count": 272,
     "metadata": {},
     "output_type": "execute_result"
    }
   ],
   "source": [
    "nb.probability[1]"
   ]
  },
  {
   "cell_type": "code",
   "execution_count": 273,
   "metadata": {
    "collapsed": false
   },
   "outputs": [
    {
     "data": {
      "text/html": [
       "&lt;Table length=30&gt;\n",
       "<table id=\"table2635804593008-603236\" class=\"table-striped table-bordered table-condensed\">\n",
       "<thead><tr><th>idx</th><th>displacement</th><th>Europe</th><th>Asia</th><th>America</th></tr></thead>\n",
       "<tr><td>0</td><td>258</td><td>0.0</td><td>0.0</td><td>0.0434782608696</td></tr>\n",
       "<tr><td>1</td><td>260</td><td>0.0</td><td>0.0</td><td>0.0434782608696</td></tr>\n",
       "<tr><td>2</td><td>134</td><td>0.125</td><td>0.0</td><td>0.0</td></tr>\n",
       "<tr><td>3</td><td>135</td><td>0.0</td><td>0.0</td><td>0.0869565217391</td></tr>\n",
       "<tr><td>4</td><td>140</td><td>0.0</td><td>0.0</td><td>0.0434782608696</td></tr>\n",
       "<tr><td>5</td><td>400</td><td>0.0</td><td>0.0</td><td>0.0869565217391</td></tr>\n",
       "<tr><td>6</td><td>146</td><td>0.125</td><td>0.0</td><td>0.0</td></tr>\n",
       "<tr><td>7</td><td>151</td><td>0.0</td><td>0.0</td><td>0.0434782608696</td></tr>\n",
       "<tr><td>8</td><td>156</td><td>0.0</td><td>0.0</td><td>0.0434782608696</td></tr>\n",
       "<tr><td>9</td><td>163</td><td>0.0</td><td>0.0909090909091</td><td>0.0</td></tr>\n",
       "<tr><td>10</td><td>304</td><td>0.0</td><td>0.0</td><td>0.0434782608696</td></tr>\n",
       "<tr><td>11</td><td>305</td><td>0.0</td><td>0.0</td><td>0.0434782608696</td></tr>\n",
       "<tr><td>12</td><td>200</td><td>0.0</td><td>0.0</td><td>0.0434782608696</td></tr>\n",
       "<tr><td>13</td><td>79</td><td>0.0</td><td>0.0909090909091</td><td>0.0</td></tr>\n",
       "<tr><td>14</td><td>81</td><td>0.125</td><td>0.0</td><td>0.0</td></tr>\n",
       "<tr><td>15</td><td>83</td><td>0.125</td><td>0.0</td><td>0.0</td></tr>\n",
       "<tr><td>16</td><td>89</td><td>0.0</td><td>0.0909090909091</td><td>0.0</td></tr>\n",
       "<tr><td>17</td><td>91</td><td>0.125</td><td>0.0</td><td>0.0</td></tr>\n",
       "<tr><td>18</td><td>350</td><td>0.0</td><td>0.0</td><td>0.0869565217391</td></tr>\n",
       "<tr><td>19</td><td>225</td><td>0.0</td><td>0.0</td><td>0.0869565217391</td></tr>\n",
       "<tr><td>20</td><td>97</td><td>0.125</td><td>0.181818181818</td><td>0.0</td></tr>\n",
       "<tr><td>21</td><td>98</td><td>0.0</td><td>0.0909090909091</td><td>0.0</td></tr>\n",
       "<tr><td>22</td><td>232</td><td>0.0</td><td>0.0</td><td>0.0434782608696</td></tr>\n",
       "<tr><td>23</td><td>105</td><td>0.0</td><td>0.0</td><td>0.0869565217391</td></tr>\n",
       "<tr><td>24</td><td>112</td><td>0.0</td><td>0.0</td><td>0.0434782608696</td></tr>\n",
       "<tr><td>25</td><td>116</td><td>0.0</td><td>0.181818181818</td><td>0.0</td></tr>\n",
       "<tr><td>26</td><td>119</td><td>0.125</td><td>0.0</td><td>0.0</td></tr>\n",
       "<tr><td>27</td><td>120</td><td>0.125</td><td>0.0</td><td>0.0</td></tr>\n",
       "<tr><td>28</td><td>121</td><td>0.0</td><td>0.272727272727</td><td>0.0</td></tr>\n",
       "<tr><td>29</td><td>250</td><td>0.0</td><td>0.0</td><td>0.130434782609</td></tr>\n",
       "</table><style>table.dataTable {clear: both; width: auto !important; margin: 0 !important;}\n",
       ".dataTables_info, .dataTables_length, .dataTables_filter, .dataTables_paginate{\n",
       "display: inline-block; margin-right: 1em; }\n",
       ".paginate_button { margin-right: 5px; }\n",
       "</style>\n",
       "<script>\n",
       "require.config({paths: {\n",
       "    datatables: 'https://cdn.datatables.net/1.10.12/js/jquery.dataTables.min'\n",
       "}});\n",
       "require([\"datatables\"], function(){\n",
       "    console.log(\"$('#table2635804593008-603236').dataTable()\");\n",
       "    $('#table2635804593008-603236').dataTable({\n",
       "        \"order\": [],\n",
       "        \"iDisplayLength\": 50,\n",
       "        \"aLengthMenu\": [[10, 25, 50, 100, 500, 1000, -1], [10, 25, 50, 100, 500, 1000, 'All']],\n",
       "        \"pagingType\": \"full_numbers\"\n",
       "    });\n",
       "});\n",
       "</script>\n"
      ],
      "text/plain": [
       "<IPython.core.display.HTML object>"
      ]
     },
     "execution_count": 273,
     "metadata": {},
     "output_type": "execute_result"
    }
   ],
   "source": [
    "nb.probability[2].show_in_notebook()"
   ]
  },
  {
   "cell_type": "code",
   "execution_count": 274,
   "metadata": {
    "collapsed": false
   },
   "outputs": [
    {
     "data": {
      "text/html": [
       "&lt;Table length=29&gt;\n",
       "<table id=\"table2635804590712-517560\" class=\"table-striped table-bordered table-condensed\">\n",
       "<thead><tr><th>idx</th><th>horsepower</th><th>Europe</th><th>Asia</th><th>America</th></tr></thead>\n",
       "<tr><td>0</td><td>130</td><td>0.0</td><td>0.0</td><td>0.0434782608696</td></tr>\n",
       "<tr><td>1</td><td>133</td><td>0.0</td><td>0.0909090909091</td><td>0.0</td></tr>\n",
       "<tr><td>2</td><td>145</td><td>0.0</td><td>0.0</td><td>0.0434782608696</td></tr>\n",
       "<tr><td>3</td><td>150</td><td>0.0</td><td>0.0</td><td>0.0869565217391</td></tr>\n",
       "<tr><td>4</td><td>170</td><td>0.0</td><td>0.0</td><td>0.0434782608696</td></tr>\n",
       "<tr><td>5</td><td>175</td><td>0.0</td><td>0.0</td><td>0.0434782608696</td></tr>\n",
       "<tr><td>6</td><td>60</td><td>0.125</td><td>0.0909090909091</td><td>0.0</td></tr>\n",
       "<tr><td>7</td><td>61</td><td>0.125</td><td>0.0</td><td>0.0</td></tr>\n",
       "<tr><td>8</td><td>63</td><td>0.0</td><td>0.0</td><td>0.0869565217391</td></tr>\n",
       "<tr><td>9</td><td>68</td><td>0.125</td><td>0.0</td><td>0.0</td></tr>\n",
       "<tr><td>10</td><td>70</td><td>0.0</td><td>0.0909090909091</td><td>0.0</td></tr>\n",
       "<tr><td>11</td><td>71</td><td>0.0</td><td>0.0909090909091</td><td>0.0</td></tr>\n",
       "<tr><td>12</td><td>72</td><td>0.0</td><td>0.0</td><td>0.0434782608696</td></tr>\n",
       "<tr><td>13</td><td>75</td><td>0.125</td><td>0.0909090909091</td><td>0.0</td></tr>\n",
       "<tr><td>14</td><td>78</td><td>0.0</td><td>0.0909090909091</td><td>0.0</td></tr>\n",
       "<tr><td>15</td><td>81</td><td>0.0</td><td>0.0909090909091</td><td>0.0</td></tr>\n",
       "<tr><td>16</td><td>83</td><td>0.0</td><td>0.0909090909091</td><td>0.0</td></tr>\n",
       "<tr><td>17</td><td>84</td><td>0.0</td><td>0.0</td><td>0.0869565217391</td></tr>\n",
       "<tr><td>18</td><td>85</td><td>0.0</td><td>0.0</td><td>0.0869565217391</td></tr>\n",
       "<tr><td>19</td><td>88</td><td>0.0</td><td>0.0</td><td>0.0869565217391</td></tr>\n",
       "<tr><td>20</td><td>90</td><td>0.0</td><td>0.0</td><td>0.0434782608696</td></tr>\n",
       "<tr><td>21</td><td>92</td><td>0.0</td><td>0.0</td><td>0.0434782608696</td></tr>\n",
       "<tr><td>22</td><td>95</td><td>0.125</td><td>0.0</td><td>0.0869565217391</td></tr>\n",
       "<tr><td>23</td><td>97</td><td>0.25</td><td>0.0</td><td>0.0</td></tr>\n",
       "<tr><td>24</td><td>98</td><td>0.0</td><td>0.0909090909091</td><td>0.0</td></tr>\n",
       "<tr><td>25</td><td>105</td><td>0.0</td><td>0.0</td><td>0.0869565217391</td></tr>\n",
       "<tr><td>26</td><td>110</td><td>0.0</td><td>0.0</td><td>0.0869565217391</td></tr>\n",
       "<tr><td>27</td><td>112</td><td>0.0</td><td>0.181818181818</td><td>0.0</td></tr>\n",
       "<tr><td>28</td><td>120</td><td>0.125</td><td>0.0</td><td>0.0</td></tr>\n",
       "</table><style>table.dataTable {clear: both; width: auto !important; margin: 0 !important;}\n",
       ".dataTables_info, .dataTables_length, .dataTables_filter, .dataTables_paginate{\n",
       "display: inline-block; margin-right: 1em; }\n",
       ".paginate_button { margin-right: 5px; }\n",
       "</style>\n",
       "<script>\n",
       "require.config({paths: {\n",
       "    datatables: 'https://cdn.datatables.net/1.10.12/js/jquery.dataTables.min'\n",
       "}});\n",
       "require([\"datatables\"], function(){\n",
       "    console.log(\"$('#table2635804590712-517560').dataTable()\");\n",
       "    $('#table2635804590712-517560').dataTable({\n",
       "        \"order\": [],\n",
       "        \"iDisplayLength\": 50,\n",
       "        \"aLengthMenu\": [[10, 25, 50, 100, 500, 1000, -1], [10, 25, 50, 100, 500, 1000, 'All']],\n",
       "        \"pagingType\": \"full_numbers\"\n",
       "    });\n",
       "});\n",
       "</script>\n"
      ],
      "text/plain": [
       "<IPython.core.display.HTML object>"
      ]
     },
     "execution_count": 274,
     "metadata": {},
     "output_type": "execute_result"
    }
   ],
   "source": [
    "nb.probability[3].show_in_notebook()"
   ]
  },
  {
   "cell_type": "code",
   "execution_count": 275,
   "metadata": {
    "collapsed": false
   },
   "outputs": [
    {
     "data": {
      "text/html": [
       "&lt;Table length=40&gt;\n",
       "<table id=\"table2635804526632-239048\" class=\"table-striped table-bordered table-condensed\">\n",
       "<thead><tr><th>idx</th><th>weight</th><th>Europe</th><th>Asia</th><th>America</th></tr></thead>\n",
       "<tr><td>0</td><td>3840</td><td>0.0</td><td>0.0</td><td>0.0434782608696</td></tr>\n",
       "<tr><td>1</td><td>2945</td><td>0.0</td><td>0.0909090909091</td><td>0.0</td></tr>\n",
       "<tr><td>2</td><td>2560</td><td>0.125</td><td>0.0</td><td>0.0</td></tr>\n",
       "<tr><td>3</td><td>1925</td><td>0.0</td><td>0.0909090909091</td><td>0.0</td></tr>\n",
       "<tr><td>4</td><td>4746</td><td>0.0</td><td>0.0</td><td>0.0434782608696</td></tr>\n",
       "<tr><td>5</td><td>3085</td><td>0.0</td><td>0.0</td><td>0.0434782608696</td></tr>\n",
       "<tr><td>6</td><td>1940</td><td>0.0</td><td>0.0909090909091</td><td>0.0</td></tr>\n",
       "<tr><td>7</td><td>2074</td><td>0.0</td><td>0.0909090909091</td><td>0.0</td></tr>\n",
       "<tr><td>8</td><td>3613</td><td>0.0</td><td>0.0</td><td>0.0434782608696</td></tr>\n",
       "<tr><td>9</td><td>4385</td><td>0.0</td><td>0.0</td><td>0.0434782608696</td></tr>\n",
       "<tr><td>10</td><td>2855</td><td>0.0</td><td>0.0</td><td>0.0434782608696</td></tr>\n",
       "<tr><td>11</td><td>1834</td><td>0.0</td><td>0.0909090909091</td><td>0.0</td></tr>\n",
       "<tr><td>12</td><td>2219</td><td>0.0</td><td>0.0909090909091</td><td>0.0</td></tr>\n",
       "<tr><td>13</td><td>2220</td><td>0.0</td><td>0.0909090909091</td><td>0.0</td></tr>\n",
       "<tr><td>14</td><td>2990</td><td>0.0</td><td>0.0</td><td>0.0434782608696</td></tr>\n",
       "<tr><td>15</td><td>1970</td><td>0.125</td><td>0.0</td><td>0.0</td></tr>\n",
       "<tr><td>16</td><td>3892</td><td>0.0</td><td>0.0</td><td>0.0434782608696</td></tr>\n",
       "<tr><td>17</td><td>2868</td><td>0.0</td><td>0.0909090909091</td><td>0.0</td></tr>\n",
       "<tr><td>18</td><td>2870</td><td>0.0</td><td>0.0</td><td>0.0434782608696</td></tr>\n",
       "<tr><td>19</td><td>3897</td><td>0.0</td><td>0.0</td><td>0.0434782608696</td></tr>\n",
       "<tr><td>20</td><td>2620</td><td>0.0</td><td>0.0</td><td>0.0434782608696</td></tr>\n",
       "<tr><td>21</td><td>3520</td><td>0.0</td><td>0.0</td><td>0.0434782608696</td></tr>\n",
       "<tr><td>22</td><td>3264</td><td>0.0</td><td>0.0</td><td>0.0434782608696</td></tr>\n",
       "<tr><td>23</td><td>2370</td><td>0.0</td><td>0.0</td><td>0.0869565217391</td></tr>\n",
       "<tr><td>24</td><td>2506</td><td>0.125</td><td>0.0</td><td>0.0</td></tr>\n",
       "<tr><td>25</td><td>2125</td><td>0.0</td><td>0.0</td><td>0.0869565217391</td></tr>\n",
       "<tr><td>26</td><td>3410</td><td>0.0</td><td>0.0909090909091</td><td>0.0</td></tr>\n",
       "<tr><td>27</td><td>2003</td><td>0.125</td><td>0.0</td><td>0.0</td></tr>\n",
       "<tr><td>28</td><td>3158</td><td>0.0</td><td>0.0</td><td>0.0434782608696</td></tr>\n",
       "<tr><td>29</td><td>4440</td><td>0.0</td><td>0.0</td><td>0.0434782608696</td></tr>\n",
       "<tr><td>30</td><td>4699</td><td>0.0</td><td>0.0</td><td>0.0434782608696</td></tr>\n",
       "<tr><td>31</td><td>4060</td><td>0.0</td><td>0.0</td><td>0.0434782608696</td></tr>\n",
       "<tr><td>32</td><td>2395</td><td>0.0</td><td>0.0</td><td>0.0434782608696</td></tr>\n",
       "<tr><td>33</td><td>1760</td><td>0.125</td><td>0.0</td><td>0.0</td></tr>\n",
       "<tr><td>34</td><td>2158</td><td>0.0</td><td>0.0909090909091</td><td>0.0</td></tr>\n",
       "<tr><td>35</td><td>2545</td><td>0.125</td><td>0.0</td><td>0.0</td></tr>\n",
       "<tr><td>36</td><td>2930</td><td>0.125</td><td>0.0</td><td>0.0</td></tr>\n",
       "<tr><td>37</td><td>2933</td><td>0.0</td><td>0.0909090909091</td><td>0.0</td></tr>\n",
       "<tr><td>38</td><td>3193</td><td>0.0</td><td>0.0</td><td>0.0434782608696</td></tr>\n",
       "<tr><td>39</td><td>2171</td><td>0.125</td><td>0.0</td><td>0.0</td></tr>\n",
       "</table><style>table.dataTable {clear: both; width: auto !important; margin: 0 !important;}\n",
       ".dataTables_info, .dataTables_length, .dataTables_filter, .dataTables_paginate{\n",
       "display: inline-block; margin-right: 1em; }\n",
       ".paginate_button { margin-right: 5px; }\n",
       "</style>\n",
       "<script>\n",
       "require.config({paths: {\n",
       "    datatables: 'https://cdn.datatables.net/1.10.12/js/jquery.dataTables.min'\n",
       "}});\n",
       "require([\"datatables\"], function(){\n",
       "    console.log(\"$('#table2635804526632-239048').dataTable()\");\n",
       "    $('#table2635804526632-239048').dataTable({\n",
       "        \"order\": [],\n",
       "        \"iDisplayLength\": 50,\n",
       "        \"aLengthMenu\": [[10, 25, 50, 100, 500, 1000, -1], [10, 25, 50, 100, 500, 1000, 'All']],\n",
       "        \"pagingType\": \"full_numbers\"\n",
       "    });\n",
       "});\n",
       "</script>\n"
      ],
      "text/plain": [
       "<IPython.core.display.HTML object>"
      ]
     },
     "execution_count": 275,
     "metadata": {},
     "output_type": "execute_result"
    }
   ],
   "source": [
    "nb.probability[4].show_in_notebook()"
   ]
  },
  {
   "cell_type": "code",
   "execution_count": 276,
   "metadata": {
    "collapsed": false
   },
   "outputs": [
    {
     "data": {
      "text/html": [
       "&lt;Table length=26&gt;\n",
       "<table id=\"table2635804906440-286293\" class=\"table-striped table-bordered table-condensed\">\n",
       "<thead><tr><th>idx</th><th>acceleration</th><th>Europe</th><th>Asia</th><th>America</th></tr></thead>\n",
       "<tr><td>0</td><td>12.0</td><td>0.0</td><td>0.0</td><td>0.0869565217391</td></tr>\n",
       "<tr><td>1</td><td>13.8</td><td>0.125</td><td>0.0</td><td>0.0</td></tr>\n",
       "<tr><td>2</td><td>14.4</td><td>0.0</td><td>0.0</td><td>0.0434782608696</td></tr>\n",
       "<tr><td>3</td><td>14.2</td><td>0.125</td><td>0.0</td><td>0.0</td></tr>\n",
       "<tr><td>4</td><td>16.9</td><td>0.0</td><td>0.0909090909091</td><td>0.0</td></tr>\n",
       "<tr><td>5</td><td>12.5</td><td>0.0</td><td>0.0</td><td>0.0434782608696</td></tr>\n",
       "<tr><td>6</td><td>14.5</td><td>0.125</td><td>0.272727272727</td><td>0.0434782608696</td></tr>\n",
       "<tr><td>7</td><td>14.0</td><td>0.0</td><td>0.0909090909091</td><td>0.0434782608696</td></tr>\n",
       "<tr><td>8</td><td>15.8</td><td>0.0</td><td>0.0909090909091</td><td>0.0</td></tr>\n",
       "<tr><td>9</td><td>15.4</td><td>0.0</td><td>0.0</td><td>0.0434782608696</td></tr>\n",
       "<tr><td>10</td><td>18.5</td><td>0.0</td><td>0.0</td><td>0.0434782608696</td></tr>\n",
       "<tr><td>11</td><td>19.5</td><td>0.0</td><td>0.0909090909091</td><td>0.0434782608696</td></tr>\n",
       "<tr><td>12</td><td>19.0</td><td>0.125</td><td>0.0909090909091</td><td>0.0434782608696</td></tr>\n",
       "<tr><td>13</td><td>16.4</td><td>0.0</td><td>0.0</td><td>0.0434782608696</td></tr>\n",
       "<tr><td>14</td><td>17.8</td><td>0.0</td><td>0.0</td><td>0.0434782608696</td></tr>\n",
       "<tr><td>15</td><td>18.2</td><td>0.0</td><td>0.0</td><td>0.0434782608696</td></tr>\n",
       "<tr><td>16</td><td>13.0</td><td>0.0</td><td>0.0</td><td>0.0869565217391</td></tr>\n",
       "<tr><td>17</td><td>14.7</td><td>0.0</td><td>0.0</td><td>0.0869565217391</td></tr>\n",
       "<tr><td>18</td><td>15.5</td><td>0.0</td><td>0.181818181818</td><td>0.0</td></tr>\n",
       "<tr><td>19</td><td>16.5</td><td>0.0</td><td>0.0909090909091</td><td>0.0434782608696</td></tr>\n",
       "<tr><td>20</td><td>16.0</td><td>0.125</td><td>0.0</td><td>0.0434782608696</td></tr>\n",
       "<tr><td>21</td><td>16.1</td><td>0.125</td><td>0.0</td><td>0.0</td></tr>\n",
       "<tr><td>22</td><td>17.6</td><td>0.125</td><td>0.0</td><td>0.0869565217391</td></tr>\n",
       "<tr><td>23</td><td>17.0</td><td>0.125</td><td>0.0</td><td>0.0</td></tr>\n",
       "<tr><td>24</td><td>18.1</td><td>0.0</td><td>0.0</td><td>0.0434782608696</td></tr>\n",
       "<tr><td>25</td><td>18.0</td><td>0.0</td><td>0.0</td><td>0.0434782608696</td></tr>\n",
       "</table><style>table.dataTable {clear: both; width: auto !important; margin: 0 !important;}\n",
       ".dataTables_info, .dataTables_length, .dataTables_filter, .dataTables_paginate{\n",
       "display: inline-block; margin-right: 1em; }\n",
       ".paginate_button { margin-right: 5px; }\n",
       "</style>\n",
       "<script>\n",
       "require.config({paths: {\n",
       "    datatables: 'https://cdn.datatables.net/1.10.12/js/jquery.dataTables.min'\n",
       "}});\n",
       "require([\"datatables\"], function(){\n",
       "    console.log(\"$('#table2635804906440-286293').dataTable()\");\n",
       "    $('#table2635804906440-286293').dataTable({\n",
       "        \"order\": [],\n",
       "        \"iDisplayLength\": 50,\n",
       "        \"aLengthMenu\": [[10, 25, 50, 100, 500, 1000, -1], [10, 25, 50, 100, 500, 1000, 'All']],\n",
       "        \"pagingType\": \"full_numbers\"\n",
       "    });\n",
       "});\n",
       "</script>\n"
      ],
      "text/plain": [
       "<IPython.core.display.HTML object>"
      ]
     },
     "execution_count": 276,
     "metadata": {},
     "output_type": "execute_result"
    }
   ],
   "source": [
    "nb.probability[5].show_in_notebook()"
   ]
  },
  {
   "cell_type": "code",
   "execution_count": 277,
   "metadata": {
    "collapsed": false
   },
   "outputs": [
    {
     "data": {
      "text/html": [
       "&lt;Table length=12&gt;\n",
       "<table id=\"table2635804906496-424935\" class=\"table-striped table-bordered table-condensed\">\n",
       "<thead><tr><th>idx</th><th>modelyear</th><th>Europe</th><th>Asia</th><th>America</th></tr></thead>\n",
       "<tr><td>0</td><td>71</td><td>0.0</td><td>0.181818181818</td><td>0.0434782608696</td></tr>\n",
       "<tr><td>1</td><td>72</td><td>0.125</td><td>0.0909090909091</td><td>0.0869565217391</td></tr>\n",
       "<tr><td>2</td><td>73</td><td>0.0</td><td>0.181818181818</td><td>0.0</td></tr>\n",
       "<tr><td>3</td><td>74</td><td>0.125</td><td>0.0909090909091</td><td>0.0869565217391</td></tr>\n",
       "<tr><td>4</td><td>75</td><td>0.25</td><td>0.0909090909091</td><td>0.173913043478</td></tr>\n",
       "<tr><td>5</td><td>76</td><td>0.0</td><td>0.0909090909091</td><td>0.0869565217391</td></tr>\n",
       "<tr><td>6</td><td>77</td><td>0.0</td><td>0.0909090909091</td><td>0.0869565217391</td></tr>\n",
       "<tr><td>7</td><td>78</td><td>0.125</td><td>0.0909090909091</td><td>0.0434782608696</td></tr>\n",
       "<tr><td>8</td><td>79</td><td>0.0</td><td>0.0909090909091</td><td>0.0869565217391</td></tr>\n",
       "<tr><td>9</td><td>80</td><td>0.0</td><td>0.0</td><td>0.0434782608696</td></tr>\n",
       "<tr><td>10</td><td>81</td><td>0.25</td><td>0.0</td><td>0.0434782608696</td></tr>\n",
       "<tr><td>11</td><td>82</td><td>0.125</td><td>0.0</td><td>0.217391304348</td></tr>\n",
       "</table><style>table.dataTable {clear: both; width: auto !important; margin: 0 !important;}\n",
       ".dataTables_info, .dataTables_length, .dataTables_filter, .dataTables_paginate{\n",
       "display: inline-block; margin-right: 1em; }\n",
       ".paginate_button { margin-right: 5px; }\n",
       "</style>\n",
       "<script>\n",
       "require.config({paths: {\n",
       "    datatables: 'https://cdn.datatables.net/1.10.12/js/jquery.dataTables.min'\n",
       "}});\n",
       "require([\"datatables\"], function(){\n",
       "    console.log(\"$('#table2635804906496-424935').dataTable()\");\n",
       "    $('#table2635804906496-424935').dataTable({\n",
       "        \"order\": [],\n",
       "        \"iDisplayLength\": 50,\n",
       "        \"aLengthMenu\": [[10, 25, 50, 100, 500, 1000, -1], [10, 25, 50, 100, 500, 1000, 'All']],\n",
       "        \"pagingType\": \"full_numbers\"\n",
       "    });\n",
       "});\n",
       "</script>\n"
      ],
      "text/plain": [
       "<IPython.core.display.HTML object>"
      ]
     },
     "execution_count": 277,
     "metadata": {},
     "output_type": "execute_result"
    }
   ],
   "source": [
    "nb.probability[6].show_in_notebook()"
   ]
  },
  {
   "cell_type": "code",
   "execution_count": 278,
   "metadata": {
    "collapsed": false
   },
   "outputs": [],
   "source": [
    "l=toList(test[features],test[features].columns)"
   ]
  },
  {
   "cell_type": "code",
   "execution_count": 279,
   "metadata": {
    "collapsed": false
   },
   "outputs": [],
   "source": [
    "testData=[['Bad',8,304,150,3892,12.5,72],['Good',4,89,71,1925,12.5,81]]\n",
    "lis=nb.predictClass(testData)"
   ]
  },
  {
   "cell_type": "code",
   "execution_count": 280,
   "metadata": {
    "collapsed": false
   },
   "outputs": [
    {
     "data": {
      "text/plain": [
       "['America', 'Europe']"
      ]
     },
     "execution_count": 280,
     "metadata": {},
     "output_type": "execute_result"
    }
   ],
   "source": [
    "lis"
   ]
  }
 ],
 "metadata": {
  "anaconda-cloud": {},
  "kernelspec": {
   "display_name": "Python [conda root]",
   "language": "python",
   "name": "conda-root-py"
  },
  "language_info": {
   "codemirror_mode": {
    "name": "ipython",
    "version": 3
   },
   "file_extension": ".py",
   "mimetype": "text/x-python",
   "name": "python",
   "nbconvert_exporter": "python",
   "pygments_lexer": "ipython3",
   "version": "3.5.2"
  }
 },
 "nbformat": 4,
 "nbformat_minor": 1
}
